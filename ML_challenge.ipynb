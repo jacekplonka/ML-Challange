{
  "nbformat": 4,
  "nbformat_minor": 0,
  "metadata": {
    "colab": {
      "name": "ML-challenge.ipynb",
      "provenance": [],
      "toc_visible": true,
      "machine_shape": "hm",
      "authorship_tag": "ABX9TyOkTr4RaxS2t7VclrfjMokF",
      "include_colab_link": true
    },
    "kernelspec": {
      "name": "python3",
      "display_name": "Python 3"
    }
  },
  "cells": [
    {
      "cell_type": "markdown",
      "metadata": {
        "id": "view-in-github",
        "colab_type": "text"
      },
      "source": [
        "<a href=\"https://colab.research.google.com/github/jacekplonka/ML-Challange/blob/master/ML_challenge.ipynb\" target=\"_parent\"><img src=\"https://colab.research.google.com/assets/colab-badge.svg\" alt=\"Open In Colab\"/></a>"
      ]
    },
    {
      "cell_type": "markdown",
      "metadata": {
        "id": "iRfqME5zeZcr",
        "colab_type": "text"
      },
      "source": [
        "# Predicting income level | ING Machine Learning Challange\n",
        "\n",
        "\n"
      ]
    },
    {
      "cell_type": "markdown",
      "metadata": {
        "id": "ulhanKPmaq8R",
        "colab_type": "text"
      },
      "source": [
        "# Prepare data"
      ]
    },
    {
      "cell_type": "code",
      "metadata": {
        "id": "JtLpGBopFUWi",
        "colab_type": "code",
        "colab": {}
      },
      "source": [
        "!unzip ml-challenge-week6.zip"
      ],
      "execution_count": 0,
      "outputs": []
    },
    {
      "cell_type": "code",
      "metadata": {
        "id": "mxLv-GjtGAi_",
        "colab_type": "code",
        "colab": {}
      },
      "source": [
        "import pandas as pd\n",
        "import numpy as np\n",
        "%matplotlib inline\n",
        "import matplotlib.pyplot as plt\n",
        "plt.rcParams['figure.figsize'] = [11, 7]\n",
        "\n"
      ],
      "execution_count": 0,
      "outputs": []
    },
    {
      "cell_type": "code",
      "metadata": {
        "id": "92v-xtPyG_Qg",
        "colab_type": "code",
        "colab": {}
      },
      "source": [
        "col_names = ('age','class of worker','detailed industry recode','detailed occupation recode','education','wage per hour','enroll in edu inst last wk','marital status','major industry code','major occupation code','race','hispanic origin','sex','member of a labor union','reason for unemployment','full or part time employment stat','capital gains','capital losses','dividends from stocks','tax filer stat','region of previous residence','state of previous residence','detailed household and family stat','detailed household summary in household','instance weight','migration code-change in msa','migration code-change in reg','migration code-move within reg','live in this house 1 year ago','migration prev res in sunbelt','num persons worked for employer','family members under 18','country of birth father','country of birth mother','country of birth self','citizenship','own business or self employed','fill inc questionnaire for veteran\\'s admin','veterans benefits','weeks worked in year','year','income class')"
      ],
      "execution_count": 0,
      "outputs": []
    },
    {
      "cell_type": "code",
      "metadata": {
        "id": "vRTn-y3yGUeX",
        "colab_type": "code",
        "colab": {}
      },
      "source": [
        "raw_train_data = pd.read_csv('census-income.data', names=col_names, delimiter=',', na_values=' ?')\n",
        "\n",
        "raw_test_data = pd.read_csv('census-income.test', names=col_names, delimiter=',', na_values=' ?')\n"
      ],
      "execution_count": 0,
      "outputs": []
    },
    {
      "cell_type": "code",
      "metadata": {
        "id": "r9FkSa6xc1xd",
        "colab_type": "code",
        "colab": {}
      },
      "source": [
        "from sklearn.preprocessing import LabelEncoder\n",
        "\n",
        "processed_train_data = raw_train_data.copy()\n",
        "processed_test_data = raw_test_data.copy()\n",
        "\n",
        "processed_train_data = processed_train_data.drop(['year','migration code-change in msa', 'migration code-change in reg', 'migration code-move within reg', 'migration prev res in sunbelt'], axis=1)\n",
        "processed_test_data = processed_test_data.drop(['year',  'income class', 'migration code-change in msa', 'migration code-change in reg', 'migration code-move within reg', 'migration prev res in sunbelt'], axis=1)\n",
        "\n",
        "processed_train_data['state of previous residence'] = processed_train_data['state of previous residence'].fillna(value='Not in universe')\n",
        "processed_test_data['state of previous residence'] = processed_test_data['state of previous residence'].fillna(value='Not in universe')\n",
        "processed_train_data = processed_train_data.fillna(value='United-States')\n",
        "processed_test_data = processed_test_data.fillna(value='United-States')\n",
        "\n",
        "processed_train_data['income class'] = processed_train_data['income class'] != ' - 50000.'\n",
        "\n",
        "for col in processed_train_data.columns:\n",
        "  if processed_train_data[col].dtype == 'object':\n",
        "    le = LabelEncoder()\n",
        "    # processed_train_data[col].append(processed_test_data[col])\n",
        "    le.fit(processed_train_data[col].append(processed_test_data[col]))\n",
        "    processed_train_data[col] = le.transform(processed_train_data[col])\n",
        "    \n",
        "    processed_test_data[col] = le.transform(processed_test_data[col])"
      ],
      "execution_count": 0,
      "outputs": []
    },
    {
      "cell_type": "markdown",
      "metadata": {
        "id": "V-0_oakubK73",
        "colab_type": "text"
      },
      "source": [
        "## Analyze data\n",
        "\n",
        "\n"
      ]
    },
    {
      "cell_type": "code",
      "metadata": {
        "id": "3O-2xiCdKGUu",
        "colab_type": "code",
        "colab": {}
      },
      "source": [
        "hist_data = processed_train_data.copy()\n",
        "\n",
        "for col in processed_train_data.columns:\n",
        "  if processed_train_data[col].dtype == 'bool':\n",
        "    hist_data = hist_data.drop(labels=col, axis=1)\n",
        "  \n",
        "hist_data.hist()\n",
        "\n",
        "  "
      ],
      "execution_count": 0,
      "outputs": []
    },
    {
      "cell_type": "markdown",
      "metadata": {
        "id": "v2zg3eu7d-IW",
        "colab_type": "text"
      },
      "source": [
        "# Further transformations"
      ]
    },
    {
      "cell_type": "markdown",
      "metadata": {
        "id": "m9HBrmgJbrLY",
        "colab_type": "text"
      },
      "source": [
        "## Fit continous values into buckets (Bad idea, but leaving for consistency)"
      ]
    },
    {
      "cell_type": "code",
      "metadata": {
        "id": "uCeq1XG0hfGw",
        "colab_type": "code",
        "colab": {}
      },
      "source": [
        "# from sklearn.preprocessing import KBinsDiscretizer\n",
        "\n",
        "# gains = processed_train_data[['capital gains']].copy()\n",
        "# gains.hist()\n",
        "# kb = KBinsDiscretizer(n_bins=4, encode='ordinal', strategy='kmeans')\n",
        "# kb.fit(gains)\n",
        "# gains = kb.transform(gains)\n",
        "\n",
        "# processed_train_data['capital gains'] = gains.astype('int64')\n",
        "\n",
        "# gains = processed_test_data[['capital gains']].copy()\n",
        "\n",
        "# gains = kb.transform(gains)\n",
        "\n",
        "# processed_test_data['capital gains'] = gains.astype('int64')"
      ],
      "execution_count": 0,
      "outputs": []
    },
    {
      "cell_type": "code",
      "metadata": {
        "id": "CGwWJwUwzv4t",
        "colab_type": "code",
        "colab": {}
      },
      "source": [
        "# processed_train_data['dividends from stocks'].hist()"
      ],
      "execution_count": 0,
      "outputs": []
    },
    {
      "cell_type": "code",
      "metadata": {
        "id": "MHmVyTLOyPtu",
        "colab_type": "code",
        "colab": {}
      },
      "source": [
        "# processed_train_data['dividends from stocks'] = processed_train_data['dividends from stocks'] > 0\n",
        "# processed_test_data['dividends from stocks'] = processed_test_data['dividends from stocks'] > 0"
      ],
      "execution_count": 0,
      "outputs": []
    },
    {
      "cell_type": "code",
      "metadata": {
        "id": "nqGjBFG6zG8o",
        "colab_type": "code",
        "colab": {}
      },
      "source": [
        "# weeks = processed_train_data[['weeks worked in year']].copy()\n",
        "# weeks.hist()\n",
        "# kb = KBinsDiscretizer(n_bins=3, encode='ordinal', strategy='kmeans')\n",
        "# kb.fit(weeks)\n",
        "# weeks = kb.transform(weeks)\n",
        "\n",
        "# processed_train_data['weeks worked in year'] = weeks.astype('int64')\n",
        "\n",
        "# weeks = processed_test_data[['weeks worked in year']].copy()\n",
        "\n",
        "# weeks = kb.transform(weeks)\n",
        "\n",
        "# processed_test_data['weeks worked in year'] = weeks.astype('int64')"
      ],
      "execution_count": 0,
      "outputs": []
    },
    {
      "cell_type": "code",
      "metadata": {
        "id": "mUgM2pUtzbcB",
        "colab_type": "code",
        "colab": {}
      },
      "source": [
        "# processed_train_data['dividends from stocks'] = processed_train_data['dividends from stocks'].astype('int64')\n",
        "# processed_test_data['dividends from stocks'] = processed_test_data['dividends from stocks'].astype('int64')\n",
        "# processed_train_data['income class'] = processed_train_data['income class'].astype('int64')\n",
        "\n"
      ],
      "execution_count": 0,
      "outputs": []
    },
    {
      "cell_type": "markdown",
      "metadata": {
        "id": "_pzoSWLYb3MJ",
        "colab_type": "text"
      },
      "source": [
        "## Transform income class from bool to int"
      ]
    },
    {
      "cell_type": "code",
      "metadata": {
        "id": "X6ZDj--dju9w",
        "colab_type": "code",
        "colab": {}
      },
      "source": [
        "processed_train_data['income class'] = processed_train_data['income class'].astype('int64')"
      ],
      "execution_count": 0,
      "outputs": []
    },
    {
      "cell_type": "markdown",
      "metadata": {
        "id": "d142JyCRcAJN",
        "colab_type": "text"
      },
      "source": [
        "# Test different classifiers"
      ]
    },
    {
      "cell_type": "markdown",
      "metadata": {
        "id": "uOQAojNYJ0ww",
        "colab_type": "text"
      },
      "source": [
        "## Decision Tree"
      ]
    },
    {
      "cell_type": "code",
      "metadata": {
        "id": "0gbwZYVF7jH3",
        "colab_type": "code",
        "colab": {}
      },
      "source": [
        "# from sklearn.tree import DecisionTreeClassifier, plot_tree\n",
        "\n",
        "# tree = DecisionTreeClassifier(random_state=10)\n",
        "\n",
        "# tree.fit(X_train, y_train)\n",
        "\n",
        "# tree.score(X_test, y_test)"
      ],
      "execution_count": 0,
      "outputs": []
    },
    {
      "cell_type": "markdown",
      "metadata": {
        "id": "Q349EghDKKH0",
        "colab_type": "text"
      },
      "source": [
        "## Random Forest"
      ]
    },
    {
      "cell_type": "code",
      "metadata": {
        "id": "xKD9kRg-SFeh",
        "colab_type": "code",
        "colab": {}
      },
      "source": [
        "# from sklearn.ensemble import RandomForestClassifier\n",
        "# from sklearn.model_selection import RandomizedSearchCV\n",
        "\n",
        "# # distributions = dict(n_estimators=np.linspace(100,1000, num=50, dtype='int64'))\n",
        "\n",
        "# # classifier = RandomForestClassifier(n_jobs=-1)\n",
        "# # clf = RandomizedSearchCV(classifier, distributions, random_state=10)\n",
        "# clf = RandomForestClassifier(n_estimators=871, n_jobs=-1)\n",
        "# clf.fit(X_train, y_train)\n",
        "# # print(search.best_params_)\n",
        "# # print(search.best_score_)\n",
        "# clf.score(X_test, y_test)\n",
        "\n",
        "# # clf.fit(X, y)\n",
        "# # predictions = clf.predict(processed_test_data)\n"
      ],
      "execution_count": 0,
      "outputs": []
    },
    {
      "cell_type": "markdown",
      "metadata": {
        "id": "MQhKxAshKR9E",
        "colab_type": "text"
      },
      "source": [
        "## Gradient Boosting"
      ]
    },
    {
      "cell_type": "code",
      "metadata": {
        "colab_type": "code",
        "id": "CnBQgOi_cSgt",
        "colab": {}
      },
      "source": [
        "# from sklearn.ensemble import GradientBoostingClassifier\n",
        "\n",
        "# clf = GradientBoostingClassifier()\n",
        "# clf.fit(X, y)\n",
        "# # clf.fit(X_train, y_train)\n",
        "# # clf.score(X_test, y_test)\n",
        "\n",
        "\n",
        "# predictions = clf.predict(processed_test_data)\n"
      ],
      "execution_count": 0,
      "outputs": []
    },
    {
      "cell_type": "code",
      "metadata": {
        "id": "k4ZZ21KF7CPC",
        "colab_type": "code",
        "colab": {}
      },
      "source": [
        "from sklearn.model_selection import train_test_split\n",
        "ready_data = processed_train_data.copy()\n",
        "# print(ready_data.columns)\n",
        "# lab = ['family members under 18', 'enroll in edu inst last wk']\n",
        "\n",
        "# ready_data.drop(inplace=True, axis=1, labels=lab)\n",
        "\n",
        "X = ready_data.drop(labels='income class', axis=1)\n",
        "y = ready_data['income class']\n",
        "X_train, X_test, y_train, y_test = train_test_split(X, y, test_size=0.2, stratify=y)"
      ],
      "execution_count": 0,
      "outputs": []
    },
    {
      "cell_type": "markdown",
      "metadata": {
        "id": "xvkdh72eca2x",
        "colab_type": "text"
      },
      "source": [
        "## Histogram Gradient Boosting"
      ]
    },
    {
      "cell_type": "code",
      "metadata": {
        "id": "8YzSGlw_nZfR",
        "colab_type": "code",
        "colab": {}
      },
      "source": [
        "from sklearn.experimental import enable_hist_gradient_boosting\n",
        "from sklearn.ensemble import HistGradientBoostingClassifier\n",
        "from sklearn.model_selection import cross_val_score\n",
        "clf = HistGradientBoostingClassifier()\n",
        "score = cross_val_score(clf, X, y, cv=10)\n",
        "print(f'Max score: {np.max(score)} Mean: {np.mean(score)} Min: {np.min(score)}')\n",
        "# clf.fit(X, y)\n",
        "# clf.fit(X_train, y_train)\n",
        "# clf.score(X_test, y_test)\n",
        "\n",
        "\n",
        "# predictions = clf.predict(processed_test_data)"
      ],
      "execution_count": 0,
      "outputs": []
    },
    {
      "cell_type": "code",
      "metadata": {
        "id": "V618UeDSWILl",
        "colab_type": "code",
        "colab": {}
      },
      "source": [
        "from sklearn.experimental import enable_hist_gradient_boosting\n",
        "from sklearn.ensemble import HistGradientBoostingClassifier\n",
        "\n",
        "clf = HistGradientBoostingClassifier()\n",
        "\n",
        "# clf.fit(X, y)\n",
        "clf.fit(X_train, y_train)\n",
        "clf.score(X_test, y_test)\n",
        "\n",
        "\n",
        "# predictions = clf.predict(processed_test_data)"
      ],
      "execution_count": 0,
      "outputs": []
    },
    {
      "cell_type": "markdown",
      "metadata": {
        "id": "sz7wDixicl7u",
        "colab_type": "text"
      },
      "source": [
        "# Train final model"
      ]
    },
    {
      "cell_type": "markdown",
      "metadata": {
        "id": "JqXbDyiQc5Oy",
        "colab_type": "text"
      },
      "source": [
        "Make data more even"
      ]
    },
    {
      "cell_type": "code",
      "metadata": {
        "id": "YC4NpNhtc4na",
        "colab_type": "code",
        "colab": {}
      },
      "source": [
        "data = ready_data.copy()\n",
        "\n",
        "data = data.sort_values(by='income class')\n",
        "data = data[150000:]\n",
        "print(data['income class'].value_counts())"
      ],
      "execution_count": 0,
      "outputs": []
    },
    {
      "cell_type": "code",
      "metadata": {
        "id": "edDM2x6topUW",
        "colab_type": "code",
        "colab": {}
      },
      "source": [
        "from sklearn.model_selection import train_test_split\n",
        "from sklearn.experimental import enable_hist_gradient_boosting\n",
        "from sklearn.ensemble import HistGradientBoostingClassifier\n",
        "\n",
        "X = data.drop(labels='income class', axis=1)\n",
        "y = data['income class']\n",
        "\n",
        "\n",
        "scores = [0]\n",
        "for _ in range(40):\n",
        "  X_train, X_test, y_train, y_test = train_test_split(X, y, test_size=0.1, stratify=y)\n",
        "  clf = HistGradientBoostingClassifier()\n",
        "\n",
        "  clf.fit(X_train, y_train)\n",
        "  score = clf.score(X_test, y_test)\n",
        "  if score > np.max(scores):\n",
        "    predictions = clf.predict(processed_test_data)\n",
        "  scores.append(score)\n",
        "\n",
        "print(scores)\n",
        "print(np.max(scores))"
      ],
      "execution_count": 0,
      "outputs": []
    },
    {
      "cell_type": "markdown",
      "metadata": {
        "id": "dkv_nBpscsul",
        "colab_type": "text"
      },
      "source": [
        "# Save the results"
      ]
    },
    {
      "cell_type": "code",
      "metadata": {
        "id": "j_CHq1acKQUk",
        "colab_type": "code",
        "colab": {}
      },
      "source": [
        "with open('submit.csv', 'w+') as file:\n",
        "  file.write('index,income class\\n')\n",
        "  for i, row in enumerate(predictions):\n",
        "    file.write(f'{i},{row}\\n')"
      ],
      "execution_count": 0,
      "outputs": []
    }
  ]
}