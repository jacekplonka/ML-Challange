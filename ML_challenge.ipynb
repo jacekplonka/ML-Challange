{
  "nbformat": 4,
  "nbformat_minor": 0,
  "metadata": {
    "colab": {
      "name": "ML-challenge.ipynb",
      "provenance": [],
      "toc_visible": true,
      "machine_shape": "hm",
      "authorship_tag": "ABX9TyOkTr4RaxS2t7VclrfjMokF",
      "include_colab_link": true
    },
    "kernelspec": {
      "name": "python3",
      "display_name": "Python 3"
    }
  },
  "cells": [
    {
      "cell_type": "markdown",
      "metadata": {
        "id": "view-in-github",
        "colab_type": "text"
      },
      "source": [
        "<a href=\"https://colab.research.google.com/github/jacekplonka/ML-Challange/blob/master/ML_challenge.ipynb\" target=\"_parent\"><img src=\"https://colab.research.google.com/assets/colab-badge.svg\" alt=\"Open In Colab\"/></a>"
      ]
    },
    {
      "cell_type": "markdown",
      "metadata": {
        "id": "iRfqME5zeZcr",
        "colab_type": "text"
      },
      "source": [
        "# Predicting income level | ING Machine Learning Challange\n",
        "\n",
        "\n"
      ]
    },
    {
      "cell_type": "markdown",
      "metadata": {
        "id": "ulhanKPmaq8R",
        "colab_type": "text"
      },
      "source": [
        "# Prepare data"
      ]
    },
    {
      "cell_type": "code",
      "metadata": {
        "id": "JtLpGBopFUWi",
        "colab_type": "code",
        "outputId": "a694e9d0-8c3a-4f95-ebe2-3bbb6a5507ca",
        "colab": {
          "base_uri": "https://localhost:8080/",
          "height": 102
        }
      },
      "source": [
        "!unzip ml-challenge-week6.zip"
      ],
      "execution_count": 1,
      "outputs": [
        {
          "output_type": "stream",
          "text": [
            "Archive:  ml-challenge-week6.zip\n",
            "  inflating: census-income.data      \n",
            "  inflating: census-income.names     \n",
            "  inflating: census-income.test      \n",
            "  inflating: sampleSubmission.csv    \n"
          ],
          "name": "stdout"
        }
      ]
    },
    {
      "cell_type": "code",
      "metadata": {
        "id": "mxLv-GjtGAi_",
        "colab_type": "code",
        "colab": {}
      },
      "source": [
        "import pandas as pd\n",
        "import numpy as np\n",
        "%matplotlib inline\n",
        "import matplotlib.pyplot as plt\n",
        "plt.rcParams['figure.figsize'] = [11, 7]\n",
        "\n"
      ],
      "execution_count": 0,
      "outputs": []
    },
    {
      "cell_type": "code",
      "metadata": {
        "id": "92v-xtPyG_Qg",
        "colab_type": "code",
        "colab": {}
      },
      "source": [
        "col_names = ('age','class of worker','detailed industry recode','detailed occupation recode','education','wage per hour','enroll in edu inst last wk','marital status','major industry code','major occupation code','race','hispanic origin','sex','member of a labor union','reason for unemployment','full or part time employment stat','capital gains','capital losses','dividends from stocks','tax filer stat','region of previous residence','state of previous residence','detailed household and family stat','detailed household summary in household','instance weight','migration code-change in msa','migration code-change in reg','migration code-move within reg','live in this house 1 year ago','migration prev res in sunbelt','num persons worked for employer','family members under 18','country of birth father','country of birth mother','country of birth self','citizenship','own business or self employed','fill inc questionnaire for veteran\\'s admin','veterans benefits','weeks worked in year','year','income class')"
      ],
      "execution_count": 0,
      "outputs": []
    },
    {
      "cell_type": "code",
      "metadata": {
        "id": "vRTn-y3yGUeX",
        "colab_type": "code",
        "colab": {}
      },
      "source": [
        "raw_train_data = pd.read_csv('census-income.data', names=col_names, delimiter=',', na_values=' ?')\n",
        "\n",
        "raw_test_data = pd.read_csv('census-income.test', names=col_names, delimiter=',', na_values=' ?')\n"
      ],
      "execution_count": 0,
      "outputs": []
    },
    {
      "cell_type": "code",
      "metadata": {
        "id": "r9FkSa6xc1xd",
        "colab_type": "code",
        "colab": {}
      },
      "source": [
        "from sklearn.preprocessing import LabelEncoder\n",
        "\n",
        "processed_train_data = raw_train_data.copy()\n",
        "processed_test_data = raw_test_data.copy()\n",
        "\n",
        "processed_train_data = processed_train_data.drop(['year','migration code-change in msa', 'migration code-change in reg', 'migration code-move within reg', 'migration prev res in sunbelt'], axis=1)\n",
        "processed_test_data = processed_test_data.drop(['year',  'income class', 'migration code-change in msa', 'migration code-change in reg', 'migration code-move within reg', 'migration prev res in sunbelt'], axis=1)\n",
        "\n",
        "processed_train_data['state of previous residence'] = processed_train_data['state of previous residence'].fillna(value='Not in universe')\n",
        "processed_test_data['state of previous residence'] = processed_test_data['state of previous residence'].fillna(value='Not in universe')\n",
        "processed_train_data = processed_train_data.fillna(value='United-States')\n",
        "processed_test_data = processed_test_data.fillna(value='United-States')\n",
        "\n",
        "processed_train_data['income class'] = processed_train_data['income class'] != ' - 50000.'\n",
        "\n",
        "for col in processed_train_data.columns:\n",
        "  if processed_train_data[col].dtype == 'object':\n",
        "    le = LabelEncoder()\n",
        "    # processed_train_data[col].append(processed_test_data[col])\n",
        "    le.fit(processed_train_data[col].append(processed_test_data[col]))\n",
        "    processed_train_data[col] = le.transform(processed_train_data[col])\n",
        "    \n",
        "    processed_test_data[col] = le.transform(processed_test_data[col])"
      ],
      "execution_count": 0,
      "outputs": []
    },
    {
      "cell_type": "markdown",
      "metadata": {
        "id": "V-0_oakubK73",
        "colab_type": "text"
      },
      "source": [
        "## Analyze data\n",
        "\n",
        "\n"
      ]
    },
    {
      "cell_type": "code",
      "metadata": {
        "id": "3O-2xiCdKGUu",
        "colab_type": "code",
        "colab": {
          "base_uri": "https://localhost:8080/",
          "height": 1000
        },
        "outputId": "5f6ca263-bf67-405a-81bd-59275bc2962c"
      },
      "source": [
        "hist_data = processed_train_data.copy()\n",
        "\n",
        "for col in processed_train_data.columns:\n",
        "  if processed_train_data[col].dtype == 'bool':\n",
        "    hist_data = hist_data.drop(labels=col, axis=1)\n",
        "  \n",
        "hist_data.hist()\n",
        "\n",
        "  "
      ],
      "execution_count": 94,
      "outputs": [
        {
          "output_type": "execute_result",
          "data": {
            "text/plain": [
              "array([[<matplotlib.axes._subplots.AxesSubplot object at 0x7fc7d3286e10>,\n",
              "        <matplotlib.axes._subplots.AxesSubplot object at 0x7fc7d33b09b0>,\n",
              "        <matplotlib.axes._subplots.AxesSubplot object at 0x7fc7d2b5e780>,\n",
              "        <matplotlib.axes._subplots.AxesSubplot object at 0x7fc7d2f8ea58>,\n",
              "        <matplotlib.axes._subplots.AxesSubplot object at 0x7fc7d349dac8>,\n",
              "        <matplotlib.axes._subplots.AxesSubplot object at 0x7fc7d2f3c710>],\n",
              "       [<matplotlib.axes._subplots.AxesSubplot object at 0x7fc7e53575f8>,\n",
              "        <matplotlib.axes._subplots.AxesSubplot object at 0x7fc7d2beeb00>,\n",
              "        <matplotlib.axes._subplots.AxesSubplot object at 0x7fc7d2beeb38>,\n",
              "        <matplotlib.axes._subplots.AxesSubplot object at 0x7fc7d2aa5668>,\n",
              "        <matplotlib.axes._subplots.AxesSubplot object at 0x7fc7d2adfc18>,\n",
              "        <matplotlib.axes._subplots.AxesSubplot object at 0x7fc7d29bf208>],\n",
              "       [<matplotlib.axes._subplots.AxesSubplot object at 0x7fc7d29e87b8>,\n",
              "        <matplotlib.axes._subplots.AxesSubplot object at 0x7fc7d2958d68>,\n",
              "        <matplotlib.axes._subplots.AxesSubplot object at 0x7fc7d2916358>,\n",
              "        <matplotlib.axes._subplots.AxesSubplot object at 0x7fc7d2945908>,\n",
              "        <matplotlib.axes._subplots.AxesSubplot object at 0x7fc7d28f8eb8>,\n",
              "        <matplotlib.axes._subplots.AxesSubplot object at 0x7fc7d28b34a8>],\n",
              "       [<matplotlib.axes._subplots.AxesSubplot object at 0x7fc7d2862a58>,\n",
              "        <matplotlib.axes._subplots.AxesSubplot object at 0x7fc7d345fa90>,\n",
              "        <matplotlib.axes._subplots.AxesSubplot object at 0x7fc7d2c2ab38>,\n",
              "        <matplotlib.axes._subplots.AxesSubplot object at 0x7fc7d3023860>,\n",
              "        <matplotlib.axes._subplots.AxesSubplot object at 0x7fc7d2f909b0>,\n",
              "        <matplotlib.axes._subplots.AxesSubplot object at 0x7fc7d2823f60>],\n",
              "       [<matplotlib.axes._subplots.AxesSubplot object at 0x7fc7d27dc550>,\n",
              "        <matplotlib.axes._subplots.AxesSubplot object at 0x7fc7d2807b00>,\n",
              "        <matplotlib.axes._subplots.AxesSubplot object at 0x7fc7d27c60f0>,\n",
              "        <matplotlib.axes._subplots.AxesSubplot object at 0x7fc7d27336a0>,\n",
              "        <matplotlib.axes._subplots.AxesSubplot object at 0x7fc7d26e4c50>,\n",
              "        <matplotlib.axes._subplots.AxesSubplot object at 0x7fc7d26a2240>],\n",
              "       [<matplotlib.axes._subplots.AxesSubplot object at 0x7fc7d26507f0>,\n",
              "        <matplotlib.axes._subplots.AxesSubplot object at 0x7fc7d2683da0>,\n",
              "        <matplotlib.axes._subplots.AxesSubplot object at 0x7fc7d263f390>,\n",
              "        <matplotlib.axes._subplots.AxesSubplot object at 0x7fc7d25ee940>,\n",
              "        <matplotlib.axes._subplots.AxesSubplot object at 0x7fc7d25a0ef0>,\n",
              "        <matplotlib.axes._subplots.AxesSubplot object at 0x7fc7d255b4e0>],\n",
              "       [<matplotlib.axes._subplots.AxesSubplot object at 0x7fc7d258aa90>,\n",
              "        <matplotlib.axes._subplots.AxesSubplot object at 0x7fc7d24cb080>,\n",
              "        <matplotlib.axes._subplots.AxesSubplot object at 0x7fc7d24fa630>,\n",
              "        <matplotlib.axes._subplots.AxesSubplot object at 0x7fc7d24a9be0>,\n",
              "        <matplotlib.axes._subplots.AxesSubplot object at 0x7fc7d24671d0>,\n",
              "        <matplotlib.axes._subplots.AxesSubplot object at 0x7fc7d2417780>]],\n",
              "      dtype=object)"
            ]
          },
          "metadata": {
            "tags": []
          },
          "execution_count": 94
        },
        {
          "output_type": "display_data",
          "data": {
            "image/png": "[encoded data removed]",
            "text/plain": [
              "<Figure size 792x504 with 42 Axes>"
            ]
          },
          "metadata": {
            "tags": []
          }
        }
      ]
    },
    {
      "cell_type": "markdown",
      "metadata": {
        "id": "v2zg3eu7d-IW",
        "colab_type": "text"
      },
      "source": [
        "# Further transformations"
      ]
    },
    {
      "cell_type": "markdown",
      "metadata": {
        "id": "m9HBrmgJbrLY",
        "colab_type": "text"
      },
      "source": [
        "## Fit continous values into buckets (Bad idea, but leaving for consistency)"
      ]
    },
    {
      "cell_type": "code",
      "metadata": {
        "id": "uCeq1XG0hfGw",
        "colab_type": "code",
        "outputId": "efa97514-a3d2-420e-ea34-e4a3e033b7c3",
        "colab": {
          "base_uri": "https://localhost:8080/",
          "height": 444
        }
      },
      "source": [
        "# from sklearn.preprocessing import KBinsDiscretizer\n",
        "\n",
        "# gains = processed_train_data[['capital gains']].copy()\n",
        "# gains.hist()\n",
        "# kb = KBinsDiscretizer(n_bins=4, encode='ordinal', strategy='kmeans')\n",
        "# kb.fit(gains)\n",
        "# gains = kb.transform(gains)\n",
        "\n",
        "# processed_train_data['capital gains'] = gains.astype('int64')\n",
        "\n",
        "# gains = processed_test_data[['capital gains']].copy()\n",
        "\n",
        "# gains = kb.transform(gains)\n",
        "\n",
        "# processed_test_data['capital gains'] = gains.astype('int64')"
      ],
      "execution_count": 0,
      "outputs": [
        {
          "output_type": "display_data",
          "data": {
            "image/png": "[encoded data removed]",
            "text/plain": [
              "<Figure size 792x504 with 1 Axes>"
            ]
          },
          "metadata": {
            "tags": []
          }
        }
      ]
    },
    {
      "cell_type": "code",
      "metadata": {
        "id": "CGwWJwUwzv4t",
        "colab_type": "code",
        "colab": {}
      },
      "source": [
        "# processed_train_data['dividends from stocks'].hist()"
      ],
      "execution_count": 0,
      "outputs": []
    },
    {
      "cell_type": "code",
      "metadata": {
        "id": "MHmVyTLOyPtu",
        "colab_type": "code",
        "colab": {}
      },
      "source": [
        "# processed_train_data['dividends from stocks'] = processed_train_data['dividends from stocks'] > 0\n",
        "# processed_test_data['dividends from stocks'] = processed_test_data['dividends from stocks'] > 0"
      ],
      "execution_count": 0,
      "outputs": []
    },
    {
      "cell_type": "code",
      "metadata": {
        "id": "nqGjBFG6zG8o",
        "colab_type": "code",
        "outputId": "0c8e3f9e-d531-44a3-a744-41099b72d6ed",
        "colab": {
          "base_uri": "https://localhost:8080/",
          "height": 444
        }
      },
      "source": [
        "# weeks = processed_train_data[['weeks worked in year']].copy()\n",
        "# weeks.hist()\n",
        "# kb = KBinsDiscretizer(n_bins=3, encode='ordinal', strategy='kmeans')\n",
        "# kb.fit(weeks)\n",
        "# weeks = kb.transform(weeks)\n",
        "\n",
        "# processed_train_data['weeks worked in year'] = weeks.astype('int64')\n",
        "\n",
        "# weeks = processed_test_data[['weeks worked in year']].copy()\n",
        "\n",
        "# weeks = kb.transform(weeks)\n",
        "\n",
        "# processed_test_data['weeks worked in year'] = weeks.astype('int64')"
      ],
      "execution_count": 0,
      "outputs": [
        {
          "output_type": "display_data",
          "data": {
            "image/png": "[encoded data removed]",
            "text/plain": [
              "<Figure size 792x504 with 1 Axes>"
            ]
          },
          "metadata": {
            "tags": []
          }
        }
      ]
    },
    {
      "cell_type": "code",
      "metadata": {
        "id": "mUgM2pUtzbcB",
        "colab_type": "code",
        "colab": {}
      },
      "source": [
        "# processed_train_data['dividends from stocks'] = processed_train_data['dividends from stocks'].astype('int64')\n",
        "# processed_test_data['dividends from stocks'] = processed_test_data['dividends from stocks'].astype('int64')\n",
        "# processed_train_data['income class'] = processed_train_data['income class'].astype('int64')\n",
        "\n"
      ],
      "execution_count": 0,
      "outputs": []
    },
    {
      "cell_type": "markdown",
      "metadata": {
        "id": "_pzoSWLYb3MJ",
        "colab_type": "text"
      },
      "source": [
        "## Transform income class from bool to int"
      ]
    },
    {
      "cell_type": "code",
      "metadata": {
        "id": "X6ZDj--dju9w",
        "colab_type": "code",
        "colab": {}
      },
      "source": [
        "processed_train_data['income class'] = processed_train_data['income class'].astype('int64')"
      ],
      "execution_count": 0,
      "outputs": []
    },
    {
      "cell_type": "markdown",
      "metadata": {
        "id": "d142JyCRcAJN",
        "colab_type": "text"
      },
      "source": [
        "# Test different classifiers"
      ]
    },
    {
      "cell_type": "markdown",
      "metadata": {
        "id": "uOQAojNYJ0ww",
        "colab_type": "text"
      },
      "source": [
        "## Decision Tree"
      ]
    },
    {
      "cell_type": "code",
      "metadata": {
        "id": "0gbwZYVF7jH3",
        "colab_type": "code",
        "outputId": "9ca13265-716d-456a-8886-89f82253c74e",
        "colab": {
          "base_uri": "https://localhost:8080/",
          "height": 34
        }
      },
      "source": [
        "# from sklearn.tree import DecisionTreeClassifier, plot_tree\n",
        "\n",
        "# tree = DecisionTreeClassifier(random_state=10)\n",
        "\n",
        "# tree.fit(X_train, y_train)\n",
        "\n",
        "# tree.score(X_test, y_test)"
      ],
      "execution_count": 0,
      "outputs": [
        {
          "output_type": "execute_result",
          "data": {
            "text/plain": [
              "0.9293482800674941"
            ]
          },
          "metadata": {
            "tags": []
          },
          "execution_count": 131
        }
      ]
    },
    {
      "cell_type": "markdown",
      "metadata": {
        "id": "Q349EghDKKH0",
        "colab_type": "text"
      },
      "source": [
        "## Random Forest"
      ]
    },
    {
      "cell_type": "code",
      "metadata": {
        "id": "xKD9kRg-SFeh",
        "colab_type": "code",
        "outputId": "3bf78028-47ba-40a7-b222-0203edc449d9",
        "colab": {
          "base_uri": "https://localhost:8080/",
          "height": 34
        }
      },
      "source": [
        "# from sklearn.ensemble import RandomForestClassifier\n",
        "# from sklearn.model_selection import RandomizedSearchCV\n",
        "\n",
        "# # distributions = dict(n_estimators=np.linspace(100,1000, num=50, dtype='int64'))\n",
        "\n",
        "# # classifier = RandomForestClassifier(n_jobs=-1)\n",
        "# # clf = RandomizedSearchCV(classifier, distributions, random_state=10)\n",
        "# clf = RandomForestClassifier(n_estimators=871, n_jobs=-1)\n",
        "# clf.fit(X_train, y_train)\n",
        "# # print(search.best_params_)\n",
        "# # print(search.best_score_)\n",
        "# clf.score(X_test, y_test)\n",
        "\n",
        "# # clf.fit(X, y)\n",
        "# # predictions = clf.predict(processed_test_data)\n"
      ],
      "execution_count": 0,
      "outputs": [
        {
          "output_type": "execute_result",
          "data": {
            "text/plain": [
              "0.9554772207093573"
            ]
          },
          "metadata": {
            "tags": []
          },
          "execution_count": 143
        }
      ]
    },
    {
      "cell_type": "markdown",
      "metadata": {
        "id": "MQhKxAshKR9E",
        "colab_type": "text"
      },
      "source": [
        "## Gradient Boosting"
      ]
    },
    {
      "cell_type": "code",
      "metadata": {
        "colab_type": "code",
        "outputId": "d773a578-91f7-4341-caab-3a59b5264f03",
        "id": "CnBQgOi_cSgt",
        "colab": {
          "base_uri": "https://localhost:8080/",
          "height": 34
        }
      },
      "source": [
        "# from sklearn.ensemble import GradientBoostingClassifier\n",
        "\n",
        "# clf = GradientBoostingClassifier()\n",
        "# clf.fit(X, y)\n",
        "# # clf.fit(X_train, y_train)\n",
        "# # clf.score(X_test, y_test)\n",
        "\n",
        "\n",
        "# predictions = clf.predict(processed_test_data)\n"
      ],
      "execution_count": 0,
      "outputs": [
        {
          "output_type": "execute_result",
          "data": {
            "text/plain": [
              "0.9545583641011076"
            ]
          },
          "metadata": {
            "tags": []
          },
          "execution_count": 126
        }
      ]
    },
    {
      "cell_type": "code",
      "metadata": {
        "id": "k4ZZ21KF7CPC",
        "colab_type": "code",
        "colab": {}
      },
      "source": [
        "from sklearn.model_selection import train_test_split\n",
        "ready_data = processed_train_data.copy()\n",
        "# print(ready_data.columns)\n",
        "# lab = ['family members under 18', 'enroll in edu inst last wk']\n",
        "\n",
        "# ready_data.drop(inplace=True, axis=1, labels=lab)\n",
        "\n",
        "X = ready_data.drop(labels='income class', axis=1)\n",
        "y = ready_data['income class']\n",
        "X_train, X_test, y_train, y_test = train_test_split(X, y, test_size=0.2, stratify=y)"
      ],
      "execution_count": 0,
      "outputs": []
    },
    {
      "cell_type": "markdown",
      "metadata": {
        "id": "xvkdh72eca2x",
        "colab_type": "text"
      },
      "source": [
        "## Histogram Gradient Boosting"
      ]
    },
    {
      "cell_type": "code",
      "metadata": {
        "id": "8YzSGlw_nZfR",
        "colab_type": "code",
        "outputId": "3c514456-2d94-45c8-ba8a-e82efba79296",
        "colab": {
          "base_uri": "https://localhost:8080/",
          "height": 34
        }
      },
      "source": [
        "from sklearn.experimental import enable_hist_gradient_boosting\n",
        "from sklearn.ensemble import HistGradientBoostingClassifier\n",
        "from sklearn.model_selection import cross_val_score\n",
        "clf = HistGradientBoostingClassifier()\n",
        "score = cross_val_score(clf, X, y, cv=10)\n",
        "print(f'Max score: {np.max(score)} Mean: {np.mean(score)} Min: {np.min(score)}')\n",
        "# clf.fit(X, y)\n",
        "# clf.fit(X_train, y_train)\n",
        "# clf.score(X_test, y_test)\n",
        "\n",
        "\n",
        "# predictions = clf.predict(processed_test_data)"
      ],
      "execution_count": 35,
      "outputs": [
        {
          "output_type": "stream",
          "text": [
            "Max score: 0.9588031874906029 Mean: 0.957007451623183 Min: 0.954691259021652\n"
          ],
          "name": "stdout"
        }
      ]
    },
    {
      "cell_type": "code",
      "metadata": {
        "id": "V618UeDSWILl",
        "colab_type": "code",
        "outputId": "07ef665e-ffc5-47b3-9976-91546675e6a0",
        "colab": {
          "base_uri": "https://localhost:8080/",
          "height": 34
        }
      },
      "source": [
        "from sklearn.experimental import enable_hist_gradient_boosting\n",
        "from sklearn.ensemble import HistGradientBoostingClassifier\n",
        "\n",
        "clf = HistGradientBoostingClassifier()\n",
        "\n",
        "# clf.fit(X, y)\n",
        "clf.fit(X_train, y_train)\n",
        "clf.score(X_test, y_test)\n",
        "\n",
        "\n",
        "# predictions = clf.predict(processed_test_data)"
      ],
      "execution_count": 40,
      "outputs": [
        {
          "output_type": "execute_result",
          "data": {
            "text/plain": [
              "0.9545900930981656"
            ]
          },
          "metadata": {
            "tags": []
          },
          "execution_count": 40
        }
      ]
    },
    {
      "cell_type": "markdown",
      "metadata": {
        "id": "sz7wDixicl7u",
        "colab_type": "text"
      },
      "source": [
        "# Train final model"
      ]
    },
    {
      "cell_type": "markdown",
      "metadata": {
        "id": "JqXbDyiQc5Oy",
        "colab_type": "text"
      },
      "source": [
        "Make data more even"
      ]
    },
    {
      "cell_type": "code",
      "metadata": {
        "id": "YC4NpNhtc4na",
        "colab_type": "code",
        "colab": {}
      },
      "source": [
        "data = ready_data.copy()\n",
        "\n",
        "data = data.sort_values(by='income class')\n",
        "data = data[150000:]\n",
        "print(data['income class'].value_counts())"
      ],
      "execution_count": 0,
      "outputs": []
    },
    {
      "cell_type": "code",
      "metadata": {
        "id": "edDM2x6topUW",
        "colab_type": "code",
        "outputId": "842546fe-cc5b-4f21-bba6-3ebbae74c683",
        "colab": {
          "base_uri": "https://localhost:8080/",
          "height": 122
        }
      },
      "source": [
        "from sklearn.model_selection import train_test_split\n",
        "from sklearn.experimental import enable_hist_gradient_boosting\n",
        "from sklearn.ensemble import HistGradientBoostingClassifier\n",
        "\n",
        "X = data.drop(labels='income class', axis=1)\n",
        "y = data['income class']\n",
        "\n",
        "\n",
        "scores = [0]\n",
        "for _ in range(40):\n",
        "  X_train, X_test, y_train, y_test = train_test_split(X, y, test_size=0.1, stratify=y)\n",
        "  clf = HistGradientBoostingClassifier()\n",
        "\n",
        "  clf.fit(X_train, y_train)\n",
        "  score = clf.score(X_test, y_test)\n",
        "  if score > np.max(scores):\n",
        "    predictions = clf.predict(processed_test_data)\n",
        "  scores.append(score)\n",
        "\n",
        "print(scores)\n",
        "print(np.max(scores))"
      ],
      "execution_count": 93,
      "outputs": [
        {
          "output_type": "stream",
          "text": [
            "0    37141\n",
            "1    12382\n",
            "Name: income class, dtype: int64\n",
            "[0, 0.9024833434282253, 0.8946093276801939, 0.8919846557641833, 0.8948112255198869, 0.8958207147183526, 0.8935998384817282, 0.8958207147183526, 0.8901675752069453, 0.8968302039168181, 0.8911770644054109, 0.8903694730466384, 0.8911770644054109, 0.9061175045427013, 0.8927922471229558, 0.8915808600847971, 0.8913789622451039, 0.8960226125580456, 0.8905713708863315, 0.8986472844740562, 0.8940036341611145, 0.8942055320008075, 0.8915808600847971, 0.8940036341611145, 0.9016757520694528, 0.8994548758328286, 0.9016757520694528, 0.8960226125580456, 0.8887542903290935, 0.8942055320008075, 0.8940036341611145, 0.9032909347869977, 0.8927922471229558, 0.89501312335958, 0.8986472844740562, 0.8986472844740562, 0.8935998384817282, 0.892994144962649, 0.8978396931152837, 0.8917827579244902, 0.8952150211992732]\n",
            "0.9061175045427013\n"
          ],
          "name": "stdout"
        }
      ]
    },
    {
      "cell_type": "markdown",
      "metadata": {
        "id": "dkv_nBpscsul",
        "colab_type": "text"
      },
      "source": [
        "# Save the results"
      ]
    },
    {
      "cell_type": "code",
      "metadata": {
        "id": "j_CHq1acKQUk",
        "colab_type": "code",
        "colab": {}
      },
      "source": [
        "with open('submit.csv', 'w+') as file:\n",
        "  file.write('index,income class\\n')\n",
        "  for i, row in enumerate(predictions):\n",
        "    file.write(f'{i},{row}\\n')"
      ],
      "execution_count": 0,
      "outputs": []
    }
  ]
}